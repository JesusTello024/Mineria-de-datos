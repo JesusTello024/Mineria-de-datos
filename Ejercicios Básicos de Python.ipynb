{
 "cells": [
  {
   "cell_type": "markdown",
   "metadata": {},
   "source": [
    "# EJERCICIOS DE PYTHON"
   ]
  },
  {
   "cell_type": "markdown",
   "metadata": {},
   "source": [
    "#### Ejercicio 1. Realiza una variable con tu matricula y realiza una secuencia de imprimir con tu nombre y tu matricula concatenados."
   ]
  },
  {
   "cell_type": "code",
   "execution_count": 26,
   "metadata": {},
   "outputs": [
    {
     "name": "stdout",
     "output_type": "stream",
     "text": [
      "Jesus Omar Tello Esparza 1798181\n"
     ]
    }
   ],
   "source": [
    "matricula=1798181\n",
    "name=\"Jesus Omar Tello Esparza \"\n",
    "print(name+str(matricula))"
   ]
  },
  {
   "cell_type": "markdown",
   "metadata": {},
   "source": [
    "#### Ejercicio 2. Pidiendo el input del usuario pide dos números y crea una pequeña calculadora con los operadores básicos de suma, resta, multiplicación, división, y exponente."
   ]
  },
  {
   "cell_type": "code",
   "execution_count": 28,
   "metadata": {},
   "outputs": [
    {
     "name": "stdout",
     "output_type": "stream",
     "text": [
      "\n",
      "CALCULADORA BÁSICA\n",
      "Ingresa un número: 5\n",
      "Ingresa un número: 4\n",
      "Suma:  9\n",
      "Resta:  1\n",
      "Multiplicación:  20\n",
      "División:  1.25\n",
      "Exponente:  625\n"
     ]
    }
   ],
   "source": [
    "print(\"\\nCALCULADORA BÁSICA\")\n",
    "Valor1= int(input(\"Inserta un número: \"))\n",
    "Valor2=int(input(\"Inserta un número: \"))\n",
    "print(\"Suma: \", Valor1+Valor2)\n",
    "print(\"Resta: \", Valor1-Valor2)\n",
    "print (\"Multiplicación: \", Valor1*Valor2)\n",
    "print(\"División: \", Valor1/Valor2)\n",
    "print(\"Exponente: \", Valor1**Valor2)"
   ]
  },
  {
   "cell_type": "markdown",
   "metadata": {},
   "source": [
    "#### Ejercicio 3. Con loop while o for, realiza una lista de 10 numeros multiplos de 3, y después realiza una función de loop que sume todos los números dentro del arreglo."
   ]
  },
  {
   "cell_type": "code",
   "execution_count": 11,
   "metadata": {
    "scrolled": true
   },
   "outputs": [
    {
     "name": "stdout",
     "output_type": "stream",
     "text": [
      "[3, 6, 9, 12, 15, 18, 21, 24, 27, 30]\n"
     ]
    }
   ],
   "source": [
    "multiplo3=[]\n",
    "validar= False\n",
    "\n",
    "for i in range (1, 31):\n",
    "\n",
    "    validar = i % 3 == 0\n",
    "    \n",
    "    if (validar):\n",
    "        multiplo3.append(i)\n",
    "\n",
    "print (multiplo3)"
   ]
  },
  {
   "cell_type": "markdown",
   "metadata": {},
   "source": [
    "#### Ahora, se procederá a crear una función de loop que sume los números"
   ]
  },
  {
   "cell_type": "code",
   "execution_count": 12,
   "metadata": {},
   "outputs": [
    {
     "name": "stdout",
     "output_type": "stream",
     "text": [
      "La suma de los elementos es 165\n"
     ]
    }
   ],
   "source": [
    "suma=0\n",
    "for i in range(len(multiplo3)):\n",
    "    suma=suma+multiplo3[i]\n",
    "print(\"La suma de los elementos es\",suma)"
   ]
  },
  {
   "cell_type": "markdown",
   "metadata": {},
   "source": [
    "#### Ejercicio 4. Con una función de if else, revisar si un número es par o es impar. Con una función de if else, revisar si un número es primo o no."
   ]
  },
  {
   "cell_type": "code",
   "execution_count": 35,
   "metadata": {
    "scrolled": true
   },
   "outputs": [
    {
     "name": "stdout",
     "output_type": "stream",
     "text": [
      " Inserte el número para verificar si es primo o no: 2\n",
      "El número es primo\n"
     ]
    }
   ],
   "source": [
    "numero= int(input(\" Inserte el número para verificar si es primo o no: \"))\n",
    "valor= range(2,numero)\n",
    "contador = 0\n",
    "for n in valor:\n",
    "  if numero % n == 0:\n",
    "    contador = contador + 1\n",
    "    print(\"divisor:\", n)\n",
    " \n",
    "if contador > 0 :\n",
    "  print(\"El número no es primo\" )\n",
    "else:\n",
    "  print(\"El número es primo\")\n",
    "\n",
    "#https://unipython.com/ejemplo-numeros-primos/"
   ]
  },
  {
   "cell_type": "markdown",
   "metadata": {},
   "source": [
    "####  Ejercicio 5. Utilizando diferentes clases en python, crea una calculadora con los operadores básicos de suma, resta, multiplicación, división, y exponente."
   ]
  },
  {
   "cell_type": "code",
   "execution_count": 41,
   "metadata": {},
   "outputs": [
    {
     "name": "stdout",
     "output_type": "stream",
     "text": [
      "Calculadora de Python\n",
      " Suma \n",
      " Resta \n",
      " Multiplicación \n",
      " Divisón \n",
      " Exponente \n",
      "¿Qué operación deseas realizar? : Suma\n",
      "Inserta un numero: 4\n",
      "Inserte un numero: 12\n",
      "\n",
      " El resultado es:  16.0\n"
     ]
    }
   ],
   "source": [
    "print(\"Calculadora de Python\")\n",
    "print(\" Suma \\n Resta \\n Multiplicación \\n Divisón \\n Exponente \")\n",
    "op= input(\"¿Qué operación deseas realizar? : \")\n",
    "x = float(input(\"Inserta un numero: \"))\n",
    "y = float(input(\"Inserte un numero: \"))\n",
    "def Suma(x,y):\n",
    "    return(x+y)\n",
    "def Resta(x,y):\n",
    "    return(x-y)\n",
    "def Multiplicacion(x,y):\n",
    "    return(x*y)\n",
    "def Division(x,y):\n",
    "    return(x/y)\n",
    "def Exponente(x,y):\n",
    "    return(x**y)\n",
    "r=0\n",
    "if op==\"Suma\":\n",
    "    r=Suma(x,y)\n",
    "elif op==\"Resta\":\n",
    "    r=Resta(x,y)\n",
    "elif op==\"Multiplicación\":\n",
    "    r=Multiplicacion(x,y)\n",
    "elif op==\"División\":\n",
    "    if y!=0:\n",
    "        r=Division(x,y)\n",
    "elif op==\"Exponencial\":\n",
    "    r=Exponente(x,y)\n",
    "else: \n",
    "    print(\"Ingrese una operación marcada anteriormente\")\n",
    "    \n",
    "\n",
    "print(\"\\n El resultado es: \", r)"
   ]
  },
  {
   "cell_type": "markdown",
   "metadata": {},
   "source": [
    "####  Ejercicio 6. Tuplas"
   ]
  },
  {
   "cell_type": "markdown",
   "metadata": {},
   "source": [
    "#### Ejercicio 7. Listas"
   ]
  },
  {
   "cell_type": "markdown",
   "metadata": {},
   "source": [
    "#### Crear una lista con 40 elementos aleatorios enteros.\n"
   ]
  },
  {
   "cell_type": "code",
   "execution_count": 44,
   "metadata": {},
   "outputs": [
    {
     "name": "stdout",
     "output_type": "stream",
     "text": [
      "[83, 63, 53, 67, 80, 23, 11, 28, 4, 175, 173, 110, 150, 55, 125, 14, 35, 84, 175, 103, 168, 69, 90, 68, 48, 67, 151, 79, 99, 90, 91, 174, 29, 154, 16, 62, 54, 144, 99, 151]\n"
     ]
    }
   ],
   "source": [
    "import random\n",
    "\n",
    "RandomList = [random.randint(0,200) for _ in range(n)]\n",
    "n=40\n",
    "print(RandomList) \n",
    "#https://es.stackoverflow.com/questions/124063/crear-una-lista-de-numeros-aleatorios-en-python"
   ]
  },
  {
   "cell_type": "markdown",
   "metadata": {},
   "source": [
    "#### Con una funcion (def) crear dos listas nuevas a partir de la lista creada por números aleatorios, en la cual en una estén los elementos pares, y en la otra los elementos impares"
   ]
  },
  {
   "cell_type": "code",
   "execution_count": null,
   "metadata": {},
   "outputs": [],
   "source": []
  },
  {
   "cell_type": "markdown",
   "metadata": {},
   "source": [
    "#### Ordenar los elementos de la lista par de mayor a menor, y los de la lista impar de menor a mayor.\n"
   ]
  },
  {
   "cell_type": "code",
   "execution_count": null,
   "metadata": {},
   "outputs": [],
   "source": []
  },
  {
   "cell_type": "markdown",
   "metadata": {},
   "source": [
    "#### Ejercicio 8. Diccionarios"
   ]
  },
  {
   "cell_type": "markdown",
   "metadata": {},
   "source": [
    "#### Crear un diccionario de 6 personas que conozcas con su primer nombre y su edad."
   ]
  },
  {
   "cell_type": "code",
   "execution_count": 70,
   "metadata": {},
   "outputs": [
    {
     "data": {
      "text/plain": [
       "{'Jesus': 21,\n",
       " 'Felipe': 20,\n",
       " 'Evelin': 22,\n",
       " 'Angel': 19,\n",
       " 'Amauri': 18,\n",
       " 'Karla': 23}"
      ]
     },
     "execution_count": 70,
     "metadata": {},
     "output_type": "execute_result"
    }
   ],
   "source": [
    "dicc={'Jesus': 21, 'Felipe': 20, 'Evelin': 22, 'Angel': 19, 'Amauri': 18, 'Karla': 23}\n",
    "dicc"
   ]
  },
  {
   "cell_type": "markdown",
   "metadata": {},
   "source": [
    "#### Crear una lista con los valores de la edad y reacomodar la lista de menor a mayor valor.\n"
   ]
  },
  {
   "cell_type": "code",
   "execution_count": 72,
   "metadata": {},
   "outputs": [
    {
     "name": "stdout",
     "output_type": "stream",
     "text": [
      "Las edades de menor a mayor es: [18, 19, 20, 21, 22, 23]\n"
     ]
    }
   ],
   "source": [
    "OrdenEdad=sorted(dicc.values())\n",
    "print(\"Las edades de menor a mayor es:\",OrdenEdad)"
   ]
  },
  {
   "cell_type": "markdown",
   "metadata": {},
   "source": [
    "#### Usando el diccionario y un loop, imprimir solo los nombres."
   ]
  },
  {
   "cell_type": "code",
   "execution_count": 74,
   "metadata": {},
   "outputs": [
    {
     "name": "stdout",
     "output_type": "stream",
     "text": [
      "\n",
      "Nombres:\n",
      "Jesus\n",
      "Felipe\n",
      "Evelin\n",
      "Angel\n",
      "Amauri\n",
      "Karla\n"
     ]
    }
   ],
   "source": [
    "print(\"\\nNombres:\")\n",
    "for n in dicc:\n",
    "    print (n)"
   ]
  },
  {
   "cell_type": "markdown",
   "metadata": {},
   "source": [
    "#### Añadir dos personas nuevas a tu diccionario, incluyendo edad."
   ]
  },
  {
   "cell_type": "code",
   "execution_count": 75,
   "metadata": {},
   "outputs": [
    {
     "name": "stdout",
     "output_type": "stream",
     "text": [
      "\n",
      "Nuevo Diccionario:\n",
      " {'Jesus': 21, 'Felipe': 20, 'Evelin': 22, 'Angel': 19, 'Amauri': 18, 'Karla': 23, 'Rodrigo': '19', 'Adrian': '26'}\n"
     ]
    }
   ],
   "source": [
    "dicc['Rodrigo'] = '19'\n",
    "dicc['Adrian'] = '26'\n",
    "print(\"\\nNuevo Diccionario:\\n\",dicc)"
   ]
  },
  {
   "cell_type": "markdown",
   "metadata": {},
   "source": [
    "#### Ejercicio 9. Sets"
   ]
  },
  {
   "cell_type": "markdown",
   "metadata": {},
   "source": [
    "#### Crea un set con 100 números aleatorios enteros del 1 al 25.\n"
   ]
  },
  {
   "cell_type": "code",
   "execution_count": 84,
   "metadata": {},
   "outputs": [
    {
     "name": "stdout",
     "output_type": "stream",
     "text": [
      "El set aleatorios es \n",
      " {0, 1, 2, 3, 4, 5, 6, 7, 8, 9, 10, 11, 12, 13, 14, 15, 16, 17, 18, 19, 20, 21, 22, 23, 24, 25}\n"
     ]
    }
   ],
   "source": [
    "import random\n",
    "con=0\n",
    "set1=set()\n",
    "while con < 100:\n",
    "    set1.add((random.randint(0,25)))\n",
    "    con=con+1\n",
    "print(\"El set aleatorios es \\n\",set1)"
   ]
  },
  {
   "cell_type": "markdown",
   "metadata": {},
   "source": [
    "#### Comprueba la longitud de tu set.\n"
   ]
  },
  {
   "cell_type": "code",
   "execution_count": 86,
   "metadata": {},
   "outputs": [
    {
     "name": "stdout",
     "output_type": "stream",
     "text": [
      "\n",
      "La lonngitud del set es:\n",
      " 26\n"
     ]
    }
   ],
   "source": [
    "longset = len(set1)\n",
    "print(\"\\nLa longitud del set es:\\n\",longset)"
   ]
  },
  {
   "cell_type": "markdown",
   "metadata": {},
   "source": [
    "#### Crea una lista de 5 números aleatorios del 1 al 10 y comprueba si cada valor aparece en el set inicial.\n"
   ]
  },
  {
   "cell_type": "code",
   "execution_count": 92,
   "metadata": {},
   "outputs": [
    {
     "name": "stdout",
     "output_type": "stream",
     "text": [
      "2 si aparece en el set inicial\n",
      "4 si aparece en el set inicial\n",
      "1 si aparece en el set inicial\n",
      "3 si aparece en el set inicial\n",
      "8 si aparece en el set inicial\n"
     ]
    }
   ],
   "source": [
    "import random\n",
    "lista=list(random.sample(range(1,11), 5))\n",
    "lista\n",
    "\n",
    "for i in range(len(lista)):\n",
    "    \n",
    "    if lista[i] in set1:\n",
    "        a=lista[i]\n",
    "        print(a, \"si aparece en el set inicial\")\n",
    "    else:\n",
    "        a=lista[i]\n",
    "        print(a, \"no aparece en el set inicial\")"
   ]
  }
 ],
 "metadata": {
  "kernelspec": {
   "display_name": "Python 3",
   "language": "python",
   "name": "python3"
  },
  "language_info": {
   "codemirror_mode": {
    "name": "ipython",
    "version": 3
   },
   "file_extension": ".py",
   "mimetype": "text/x-python",
   "name": "python",
   "nbconvert_exporter": "python",
   "pygments_lexer": "ipython3",
   "version": "3.8.5"
  }
 },
 "nbformat": 4,
 "nbformat_minor": 4
}
